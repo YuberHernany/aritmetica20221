{
 "cells": [
  {
   "cell_type": "markdown",
   "metadata": {
    "slideshow": {
     "slide_type": "slide"
    }
   },
   "source": [
    "# <font color=yellow> Bienvenid@s</font> \n",
    "\n",
    "# <font color=green> Aritmética</font> "
   ]
  },
  {
   "cell_type": "markdown",
   "metadata": {
    "slideshow": {
     "slide_type": "slide"
    }
   },
   "source": [
    "# <font color=yellow> Esquema del curso </font> "
   ]
  },
  {
   "cell_type": "markdown",
   "metadata": {
    "slideshow": {
     "slide_type": "fragment"
    }
   },
   "source": [
    "# <font color=green> Historia </font> "
   ]
  },
  {
   "cell_type": "markdown",
   "metadata": {
    "slideshow": {
     "slide_type": "fragment"
    }
   },
   "source": [
    "# <font color=green> Lógica y Conjuntos </font> "
   ]
  },
  {
   "cell_type": "markdown",
   "metadata": {
    "slideshow": {
     "slide_type": "fragment"
    }
   },
   "source": [
    "# <font color=green> Naturales: Axioma de Inducción </font> "
   ]
  },
  {
   "cell_type": "markdown",
   "metadata": {
    "slideshow": {
     "slide_type": "fragment"
    }
   },
   "source": [
    "# <font color=green> Enteros: Divisibilidad, primos y funciones aritméticas </font> "
   ]
  },
  {
   "cell_type": "markdown",
   "metadata": {
    "slideshow": {
     "slide_type": "fragment"
    }
   },
   "source": [
    "# <font color=green> Relación de equivalencia: Congruencia </font> "
   ]
  },
  {
   "cell_type": "markdown",
   "metadata": {
    "slideshow": {
     "slide_type": "fragment"
    }
   },
   "source": [
    "# <font color=green> Evaluación: 3 productos 20% c/u y un proyecto 40% </font> "
   ]
  },
  {
   "cell_type": "markdown",
   "metadata": {
    "slideshow": {
     "slide_type": "slide"
    }
   },
   "source": [
    "# <font color=yellow> ¿Qué libros estudiaremos? </font> "
   ]
  },
  {
   "cell_type": "markdown",
   "metadata": {
    "cell_style": "split",
    "slideshow": {
     "slide_type": "fragment"
    }
   },
   "source": [
    "<img src = 'obando.png'>"
   ]
  },
  {
   "cell_type": "markdown",
   "metadata": {
    "cell_style": "split",
    "slideshow": {
     "slide_type": "fragment"
    }
   },
   "source": [
    "<img src = 'gustavo.png'>"
   ]
  },
  {
   "cell_type": "markdown",
   "metadata": {
    "cell_style": "split",
    "slideshow": {
     "slide_type": "slide"
    }
   },
   "source": [
    "<img src = 'zaldivar.png'>"
   ]
  },
  {
   "cell_type": "markdown",
   "metadata": {
    "cell_style": "split",
    "slideshow": {
     "slide_type": "fragment"
    }
   },
   "source": [
    "<img src = 'apostol.png'>"
   ]
  },
  {
   "cell_type": "markdown",
   "metadata": {
    "slideshow": {
     "slide_type": "slide"
    }
   },
   "source": [
    "# <font color=green> Un poco de historia </font> "
   ]
  },
  {
   "cell_type": "markdown",
   "metadata": {
    "cell_style": "split",
    "slideshow": {
     "slide_type": "fragment"
    }
   },
   "source": [
    "Números usados para contar...\n",
    "\n",
    "$\\Huge{1, 2, 3, 4, 5, 6, 7, ...}$"
   ]
  },
  {
   "cell_type": "markdown",
   "metadata": {
    "cell_style": "split",
    "slideshow": {
     "slide_type": "fragment"
    }
   },
   "source": [
    "<img src = 'sumerios.png'> \n",
    "Los sumerios fueron una civilización del Oriente Medio que habitó entre los ríos Éufrates y Tigris. Hace 5500 años ya usaban un calendario. Usaban sistema de numeración en base 60."
   ]
  },
  {
   "cell_type": "markdown",
   "metadata": {
    "cell_style": "split",
    "slideshow": {
     "slide_type": "slide"
    }
   },
   "source": [
    "<img src = 'babilonia.png'>\n",
    "Los babilonios heredaron dicho sistema y eran buenos para calcular."
   ]
  },
  {
   "cell_type": "markdown",
   "metadata": {
    "cell_style": "split",
    "slideshow": {
     "slide_type": "fragment"
    }
   },
   "source": [
    "<img src = 'tablababilonia.png'>\n",
    "Hace 4000 años guardaban en tablas cálculos sofisticados."
   ]
  },
  {
   "cell_type": "markdown",
   "metadata": {
    "cell_style": "split",
    "slideshow": {
     "slide_type": "slide"
    }
   },
   "source": [
    "<img src = 'pitagoricos.png'>\n",
    "Hace 2600 años los griegos dieron inicio al estudio de los números por sí mismos, más allá de su utilidad.\n",
    "\n",
    "<img src = 'triangulopita.png'> "
   ]
  },
  {
   "cell_type": "code",
   "execution_count": 1,
   "metadata": {
    "cell_style": "split",
    "hide_input": true,
    "scrolled": false,
    "slideshow": {
     "slide_type": "fragment"
    }
   },
   "outputs": [
    {
     "name": "stdout",
     "output_type": "stream",
     "text": [
      "Números pares:  [2, 4, 6, 8, 10, 12, 14]\n",
      "Números impares:  [1, 3, 5, 7, 9, 11, 13]\n",
      "Números primos:  [2, 3, 5, 7, 11, 13, 17, 19, 23, 29, 31]\n",
      "Números compuestos:  [4, 6, 8, 9, 10, 12, 14]\n"
     ]
    }
   ],
   "source": [
    "import sympy.ntheory as nt\n",
    "print('Números pares: ', [par for par in range(1,15) if par % 2 == 0])\n",
    "print('Números impares: ', [impar for impar in range(1,15) if impar % 2 == 1])\n",
    "print('Números primos: ', [primo for primo in range(1,35) if nt.isprime(primo)])\n",
    "print('Números compuestos: ', [commpuesto for commpuesto in range(2,15) if not nt.isprime(commpuesto)])"
   ]
  },
  {
   "cell_type": "markdown",
   "metadata": {
    "cell_style": "split",
    "slideshow": {
     "slide_type": "fragment"
    }
   },
   "source": [
    "<img src = 'figurados.png'> "
   ]
  },
  {
   "cell_type": "markdown",
   "metadata": {
    "cell_style": "split",
    "slideshow": {
     "slide_type": "slide"
    }
   },
   "source": [
    "<img src = 'euclides.png'> \n",
    "\n",
    "## Euclides\n",
    "Hace 2300 años hizo una sistematización de las matemáticas."
   ]
  },
  {
   "cell_type": "markdown",
   "metadata": {
    "cell_style": "split",
    "slideshow": {
     "slide_type": "fragment"
    }
   },
   "source": [
    "<img src = 'formulaternas.png'>\n",
    "<img src = 'tablaternas.png'> "
   ]
  },
  {
   "cell_type": "markdown",
   "metadata": {
    "cell_style": "split",
    "slideshow": {
     "slide_type": "fragment"
    }
   },
   "source": [
    "## Números perfectos\n",
    "\n",
    "$\\Huge{2 ^{ p -1} (2 ^{ p} -1) }$"
   ]
  },
  {
   "cell_type": "markdown",
   "metadata": {
    "cell_style": "split",
    "slideshow": {
     "slide_type": "slide"
    }
   },
   "source": [
    "<img src = 'diofanto.png'> \n",
    "\n",
    "## Diofanto\n",
    "\n",
    "Hace 1800 años aproximadamente, escribe libros sobre ecuaciones cuyas incógnitas son números enteros, tales como: \n",
    "\n",
    "$\\Huge{13x - 7y = 1 }$"
   ]
  },
  {
   "cell_type": "markdown",
   "metadata": {
    "cell_style": "split",
    "slideshow": {
     "slide_type": "slide"
    }
   },
   "source": [
    "<img src = 'fermat.png'> \n",
    "\n",
    "## Fermat\n",
    "Hace aproximadamente 400 años, conjetura que ecuaciones tipo $$\\Huge{x ^{ n} + y ^{ n} = z ^{ n} }$$ no tienen solución para $x, y, z$ enteros positivos con $n$ entero mayor o igual a 3.  "
   ]
  },
  {
   "cell_type": "markdown",
   "metadata": {
    "cell_style": "split",
    "slideshow": {
     "slide_type": "slide"
    }
   },
   "source": [
    "<img src = 'euler.png'> \n",
    "\n",
    "## Euler\n",
    "Hace aproximadamente 300 años, mediante funciones aritméticas propone un avance significativo en la sistematización de la Aritmética.  "
   ]
  },
  {
   "cell_type": "markdown",
   "metadata": {
    "cell_style": "split",
    "slideshow": {
     "slide_type": "slide"
    }
   },
   "source": [
    "<img src = 'gauss.png'> \n",
    "\n",
    "## Gauss\n",
    "Hace aproximadamente 250 años, propone el estudio de la aritmética a partir de relaciones de equivalencia.  "
   ]
  },
  {
   "cell_type": "markdown",
   "metadata": {
    "cell_style": "split",
    "slideshow": {
     "slide_type": "slide"
    }
   },
   "source": [
    "<img src = 'peano.png'> \n",
    "\n",
    "## Peano\n",
    "Hace aproximadamente 120 años, formaliza mediante el principio de inducción matemática, al conjunto de número que se usan para contar.  "
   ]
  },
  {
   "cell_type": "markdown",
   "metadata": {
    "cell_style": "split",
    "slideshow": {
     "slide_type": "slide"
    }
   },
   "source": [
    "<img src = 'wiles.png'> \n",
    "\n",
    "## Wiles\n",
    "Hace aproximadamente 30 años, demuestra el \"último teorema de Fermat\".  "
   ]
  },
  {
   "cell_type": "markdown",
   "metadata": {
    "cell_style": "split",
    "slideshow": {
     "slide_type": "slide"
    }
   },
   "source": [
    "<img src = 'helfgott.png'> \n",
    "\n",
    "## Helfgott\n",
    "Hace aproximadamente 7 años, demuestra la \"conjetura débel de Goldbach\".  "
   ]
  },
  {
   "cell_type": "markdown",
   "metadata": {
    "slideshow": {
     "slide_type": "slide"
    }
   },
   "source": [
    "## ¿Quién explicará si es cierto o no es cierto que todo número par mayor que 2 es igual a la suma de dos números primos?"
   ]
  },
  {
   "cell_type": "markdown",
   "metadata": {
    "cell_style": "split",
    "slideshow": {
     "slide_type": "fragment"
    }
   },
   "source": [
    "<img src = 'quien.png'> "
   ]
  }
 ],
 "metadata": {
  "celltoolbar": "Slideshow",
  "kernelspec": {
   "display_name": "Python 3",
   "language": "python",
   "name": "python3"
  },
  "language_info": {
   "codemirror_mode": {
    "name": "ipython",
    "version": 3
   },
   "file_extension": ".py",
   "mimetype": "text/x-python",
   "name": "python",
   "nbconvert_exporter": "python",
   "pygments_lexer": "ipython3",
   "version": "3.9.5"
  },
  "rise": {
   "chalkboard": {
    "color": [
     "rgb(0, 255, 255)",
     "rgb(0, 255, 255)"
    ]
   },
   "enable_chalkboard": true,
   "footer": "<h3> Prof: Yuber Hernany Tapias.</h3>",
   "header": "<h1>UdeA</h1>",
   "scroll": "True",
   "theme": "night",
   "transition": "None"
  }
 },
 "nbformat": 4,
 "nbformat_minor": 4
}
