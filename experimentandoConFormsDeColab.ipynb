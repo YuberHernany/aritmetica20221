{
  "nbformat": 4,
  "nbformat_minor": 0,
  "metadata": {
    "colab": {
      "name": "experimentandoConFormsDeColab.ipynb",
      "provenance": [],
      "collapsed_sections": [],
      "authorship_tag": "ABX9TyNv06Ep42Y1F3O4A5JoAZYA",
      "include_colab_link": true
    },
    "kernelspec": {
      "name": "python3",
      "display_name": "Python 3"
    },
    "language_info": {
      "name": "python"
    }
  },
  "cells": [
    {
      "cell_type": "markdown",
      "metadata": {
        "id": "view-in-github",
        "colab_type": "text"
      },
      "source": [
        "<a href=\"https://colab.research.google.com/github/YuberHernany/aritmetica20221/blob/main/experimentandoConFormsDeColab.ipynb\" target=\"_parent\"><img src=\"https://colab.research.google.com/assets/colab-badge.svg\" alt=\"Open In Colab\"/></a>"
      ]
    },
    {
      "cell_type": "code",
      "execution_count": null,
      "metadata": {
        "colab": {
          "base_uri": "https://localhost:8080/"
        },
        "id": "FYRAJZuoKBvJ",
        "outputId": "8e03c9ec-03e0-495e-f655-2a1ef25a427a",
        "cellView": "form"
      },
      "outputs": [
        {
          "output_type": "stream",
          "name": "stdout",
          "text": [
            "hola\n"
          ]
        }
      ],
      "source": [
        "#@title Encabezado para el formulario actual\n",
        "\n",
        "text = 'hola' #@param {type:\"string\"}\n",
        "print(text)"
      ]
    },
    {
      "cell_type": "code",
      "source": [
        "#@title Otro encabezado ahora para desplegable { run: \"auto\", vertical-output: true }\n",
        "\n",
        "opcion = \"hola\" #@param ['a','b','c','d'] {allow-input:true}\n",
        "print(opcion)"
      ],
      "metadata": {
        "colab": {
          "base_uri": "https://localhost:8080/"
        },
        "id": "rFCRe4LDKqeD",
        "outputId": "69152da3-66e4-41c4-f575-04e0d2976eb0",
        "cellView": "form"
      },
      "execution_count": null,
      "outputs": [
        {
          "output_type": "stream",
          "name": "stdout",
          "text": [
            "hola\n"
          ]
        }
      ]
    },
    {
      "cell_type": "code",
      "source": [
        "#@title Entrada flotante\n",
        "\n",
        "num = 3.0 #@param {type:\"number\"}\n",
        "num_slider = 6 #@param {type:\"slider\", min:1, max:10, step:0.5}"
      ],
      "metadata": {
        "id": "DtbS8Jl-LJio",
        "cellView": "form"
      },
      "execution_count": null,
      "outputs": []
    },
    {
      "cell_type": "code",
      "source": [
        "#@title Ecuaciones { run: \"auto\", vertical-output: true }\n",
        "\n",
        "#@markdown $ax ^{ 2} + bx + c = 0$ $\\text{tiene discriminante}$ $b ^{ 2} - 4 ac$ \n",
        "respuesta = \"V\" #@param {type:\"string\"} ['V', 'F']\n",
        "\n",
        "\n",
        "\n",
        "#@markdown $\\begin{bmatrix} 1 & 0 \\\\ 0 & 1 \\end{bmatrix}$ es la matriz identidad de orden $2\\times 2$\n",
        "\n",
        "#@markdown $|x| =\n",
        "#@markdown \\left\\{\n",
        "#@markdown \\begin{array}{ll}\n",
        "#@markdown \tx  & \\mbox{if } x \\geq 0 \\\\\n",
        "#@markdown \t-x & \\mbox{if } x < 0\n",
        "#@markdown \\end{array}\n",
        "#@markdown \\right.$\n",
        "\n",
        "\n",
        "if respuesta == 'F':\n",
        "    print(\"no es correcta tu respuesta\")\n",
        "elif respuesta == 'V':\n",
        "    print('estás en lo correcto')\n",
        "\n",
        "import matplotlib.pyplot as plt\n",
        "plt.plot([2,3,4,5], [2,5,2,6])\n",
        "plt.show()"
      ],
      "metadata": {
        "colab": {
          "base_uri": "https://localhost:8080/",
          "height": 283
        },
        "id": "aupqnUwXMV1m",
        "outputId": "25fdfdf8-72c8-45ff-bdaf-445370de532e",
        "cellView": "form"
      },
      "execution_count": 14,
      "outputs": [
        {
          "output_type": "stream",
          "name": "stdout",
          "text": [
            "estás en lo correcto\n"
          ]
        },
        {
          "output_type": "display_data",
          "data": {
            "text/plain": [
              "<Figure size 432x288 with 1 Axes>"
            ],
            "image/png": "[encoded data removed]"
          },
          "metadata": {
            "needs_background": "light"
          }
        }
      ]
    },
    {
      "cell_type": "code",
      "source": [
        ""
      ],
      "metadata": {
        "id": "ppjwurmpNa5P"
      },
      "execution_count": null,
      "outputs": []
    }
  ]
}